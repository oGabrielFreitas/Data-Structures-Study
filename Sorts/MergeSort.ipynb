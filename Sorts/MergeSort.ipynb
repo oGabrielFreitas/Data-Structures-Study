{
 "cells": [
  {
   "attachments": {},
   "cell_type": "markdown",
   "metadata": {},
   "source": [
    "# Merge Sort\n"
   ]
  },
  {
   "cell_type": "code",
   "execution_count": 1,
   "metadata": {},
   "outputs": [
    {
     "data": {
      "text/plain": [
       "[1, 2, 3, 5, 7, 8, 9]"
      ]
     },
     "execution_count": 1,
     "metadata": {},
     "output_type": "execute_result"
    }
   ],
   "source": [
    "# Merge\n",
    "\n",
    "def merge(list1, list2):\n",
    "    combined = []\n",
    "    i = 0\n",
    "    j = 0\n",
    "\n",
    "    while i < len(list1) and j < len(list2):\n",
    "        if list1[i] < list2[j]:\n",
    "            combined.append(list1[i])\n",
    "            i += 1\n",
    "        else:\n",
    "            combined.append(list2[j])\n",
    "            j += 1\n",
    "        \n",
    "    while i < len(list1):\n",
    "        combined.append(list1[i])\n",
    "        i += 1\n",
    "        \n",
    "    while j < len(list2):\n",
    "        combined.append(list2[j])\n",
    "        j += 1\n",
    "    \n",
    "    return combined\n",
    "\n",
    "merge([1,3,5,7],[2,8,9])\n"
   ]
  },
  {
   "cell_type": "code",
   "execution_count": 3,
   "metadata": {},
   "outputs": [
    {
     "data": {
      "text/plain": [
       "[1, 2, 4, 5, 8, 9, 21, 23]"
      ]
     },
     "execution_count": 3,
     "metadata": {},
     "output_type": "execute_result"
    }
   ],
   "source": [
    "\n",
    "def merge_sort(my_list):\n",
    "    if len(my_list) == 1:\n",
    "        return my_list\n",
    "    \n",
    "    mid_index = int(len(my_list)/2)\n",
    "    left = merge_sort(my_list[:mid_index])\n",
    "    right = merge_sort(my_list[mid_index:])\n",
    "\n",
    "\n",
    "    return merge(left, right)\n",
    "\n",
    "merge_sort([4,2,5,1,9,8,23,21])"
   ]
  },
  {
   "cell_type": "code",
   "execution_count": null,
   "metadata": {},
   "outputs": [],
   "source": []
  }
 ],
 "metadata": {
  "kernelspec": {
   "display_name": "Python 3",
   "language": "python",
   "name": "python3"
  },
  "language_info": {
   "codemirror_mode": {
    "name": "ipython",
    "version": 3
   },
   "file_extension": ".py",
   "mimetype": "text/x-python",
   "name": "python",
   "nbconvert_exporter": "python",
   "pygments_lexer": "ipython3",
   "version": "3.10.4"
  },
  "orig_nbformat": 4
 },
 "nbformat": 4,
 "nbformat_minor": 2
}
