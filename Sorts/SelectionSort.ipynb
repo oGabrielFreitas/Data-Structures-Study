{
 "cells": [
  {
   "attachments": {},
   "cell_type": "markdown",
   "metadata": {},
   "source": [
    "# Selection Sort"
   ]
  },
  {
   "cell_type": "code",
   "execution_count": 78,
   "metadata": {},
   "outputs": [],
   "source": [
    "\n",
    "def selection_sort(list):\n",
    "\n",
    "\n",
    "    for i in range(0, len(list), 1):\n",
    "        \n",
    "        min_index = i\n",
    "        \n",
    "        for j in range(i+1,len(list), 1):\n",
    "            if list[j] < list[min_index]:\n",
    "                min_index = j                \n",
    "        \n",
    "        if i != min_index: # Prevenir trocar de lugar por sí mesmo (útil para Big Data)\n",
    "            # temp = list[i]\n",
    "            # list[i] = list[min_index]\n",
    "            # list[min_index] = temp\n",
    "            # OR IN ALTERNATIVE WAY: (NOT SURE IF IT WORKS IN OTHER LANGUAGES)\n",
    "            list[i], list[min_index] = list[min_index], list[i] \n",
    "\n",
    "    return list\n",
    "\n"
   ]
  },
  {
   "cell_type": "code",
   "execution_count": 79,
   "metadata": {},
   "outputs": [
    {
     "data": {
      "text/plain": [
       "[1, 2, 3, 3, 4, 5]"
      ]
     },
     "execution_count": 79,
     "metadata": {},
     "output_type": "execute_result"
    }
   ],
   "source": [
    "selection_sort([4,3,5,1,2,3])"
   ]
  },
  {
   "cell_type": "code",
   "execution_count": null,
   "metadata": {},
   "outputs": [],
   "source": []
  },
  {
   "cell_type": "code",
   "execution_count": null,
   "metadata": {},
   "outputs": [],
   "source": []
  }
 ],
 "metadata": {
  "kernelspec": {
   "display_name": "Python 3",
   "language": "python",
   "name": "python3"
  },
  "language_info": {
   "codemirror_mode": {
    "name": "ipython",
    "version": 3
   },
   "file_extension": ".py",
   "mimetype": "text/x-python",
   "name": "python",
   "nbconvert_exporter": "python",
   "pygments_lexer": "ipython3",
   "version": "3.10.4"
  },
  "orig_nbformat": 4
 },
 "nbformat": 4,
 "nbformat_minor": 2
}
