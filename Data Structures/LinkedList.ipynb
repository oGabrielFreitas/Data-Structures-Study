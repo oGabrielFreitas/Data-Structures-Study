{
 "cells": [
  {
   "attachments": {},
   "cell_type": "markdown",
   "metadata": {},
   "source": [
    "# Linked List"
   ]
  },
  {
   "cell_type": "code",
   "execution_count": 273,
   "metadata": {},
   "outputs": [],
   "source": [
    "# Simple linked list\n",
    "\n",
    "import time\n",
    "\n",
    "class Node:\n",
    "\n",
    "    def __init__(self, data):\n",
    "        self.data = data\n",
    "        self.next = None\n",
    "\n",
    "\n",
    "class LinkedList:\n",
    "\n",
    "    # Constructor\n",
    "    def __init__(self):\n",
    "        self.head = None\n",
    "\n",
    "    # Insert at End\n",
    "    def append(self, data):\n",
    "        \n",
    "        new_node = Node(data)       # I must do that, everytime I want to add new data\n",
    "\n",
    "        if self.head == None:       # Verificando se é o dado inicial\n",
    "            self.head = new_node\n",
    "            return\n",
    "        \n",
    "        current_node = self.head\n",
    "\n",
    "        while current_node.next:\n",
    "            current_node = current_node.next\n",
    "\n",
    "        current_node.next = new_node\n",
    "    \n",
    "    def display(self):\n",
    "        \n",
    "        current_node = self.head\n",
    "        \n",
    "        while current_node:\n",
    "            print(current_node.data)\n",
    "            current_node = current_node.next\n",
    "\n",
    "    def length(self):\n",
    "        \n",
    "        length = 0\n",
    "\n",
    "        current_node = self.head\n",
    "\n",
    "        while current_node:\n",
    "            length += 1;\n",
    "            current_node = current_node.next\n",
    "\n",
    "        return length\n",
    "    \n",
    "\n",
    "    def to_list(self):\n",
    "        my_list = []\n",
    "\n",
    "        current_node = self.head\n",
    "\n",
    "        while current_node:\n",
    "            my_list.append(current_node.data)\n",
    "            current_node = current_node.next\n",
    "\n",
    "        return my_list\n",
    "    \n",
    "    \n",
    "    def reverse_list(self):\n",
    "\n",
    "        previous = None\n",
    "        current_node = self.head\n",
    "\n",
    "        while current_node:\n",
    "            next_node = current_node.next\n",
    "            \n",
    "            current_node.next = previous\n",
    "            previous = current_node\n",
    "            current_node = next_node\n",
    "\n",
    "        self.head = previous # NÃO ESQUECER DE REFERENCIAR O NOVO CABEÇALHO\n",
    "\n",
    "\n",
    "    def remove_at_start(self):\n",
    "\n",
    "        self.head = self.head.next;\n",
    "    \n",
    "\n",
    "    def remove_at_end(self):\n",
    "\n",
    "        current_node = self.head\n",
    "\n",
    "        while current_node.next.next != None:\n",
    "            current_node = current_node.next\n",
    "\n",
    "        current_node.next = None\n",
    "\n",
    "    # Also called \"Push\" function\n",
    "    def insert_at_start(self, data):\n",
    "\n",
    "        new_node = Node(data)\n",
    "\n",
    "        new_node.next = self.head\n",
    "        self.head = new_node\n",
    "\n",
    "\n",
    "    def insert_at_index(self, index, data):\n",
    "\n",
    "        if index == 0:\n",
    "            self.insert_at_start(data)\n",
    "            return\n",
    "\n",
    "        new_node = Node(data)\n",
    "\n",
    "        count = 0\n",
    "        prev_node = None\n",
    "        current_node = self.head\n",
    "\n",
    "        while count < index:\n",
    "            prev_node = current_node\n",
    "            current_node = current_node.next\n",
    "            count += 1\n",
    "        \n",
    "        prev_node.next = new_node\n",
    "        new_node.next = current_node\n",
    "\n",
    "\n",
    "    def get_by_index(self, index):\n",
    "\n",
    "        if index >= self.length() or index < 0:\n",
    "            print('Index of range')\n",
    "            return\n",
    "\n",
    "        count = 0\n",
    "        current_node = self.head\n",
    "\n",
    "        while count < index:\n",
    "            current_node = current_node.next\n",
    "            count += 1\n",
    "        \n",
    "        return current_node\n",
    "    \n",
    "    \n",
    "    def __find_index(self, node):\n",
    "\n",
    "        index_count = 0\n",
    "        current_node = self.head\n",
    "\n",
    "        while current_node != node:\n",
    "            current_node = current_node.next\n",
    "            index_count += 1\n",
    "\n",
    "        return index_count;\n",
    "            \n",
    "    def search_first_data(self, data):\n",
    "\n",
    "        current_node = self.head\n",
    "\n",
    "        while current_node:\n",
    "            if current_node.data == data:\n",
    "                return self.__find_index(current_node)\n",
    "            current_node = current_node.next\n",
    "        \n",
    "        return None\n",
    "\n",
    "\n",
    "\n",
    "\n",
    "    \n",
    "            "
   ]
  },
  {
   "cell_type": "code",
   "execution_count": 274,
   "metadata": {},
   "outputs": [
    {
     "name": "stdout",
     "output_type": "stream",
     "text": [
      "1\n",
      "2\n",
      "3\n",
      "4\n",
      "5\n"
     ]
    }
   ],
   "source": [
    "my_list = LinkedList()\n",
    "\n",
    "my_list.append(1)\n",
    "my_list.append(2)\n",
    "my_list.append(3)\n",
    "my_list.append(4)\n",
    "my_list.append(5)\n",
    "\n",
    "\n",
    "\n",
    "\n",
    "my_list.display()\n"
   ]
  },
  {
   "cell_type": "code",
   "execution_count": 279,
   "metadata": {},
   "outputs": [],
   "source": [
    "my_list.search_first_data(10)"
   ]
  },
  {
   "cell_type": "code",
   "execution_count": 271,
   "metadata": {},
   "outputs": [
    {
     "name": "stdout",
     "output_type": "stream",
     "text": [
      "100\n",
      "1000\n",
      "100\n",
      "1\n",
      "2\n",
      "3\n",
      "4\n",
      "5\n"
     ]
    }
   ],
   "source": [
    "my_list.insert_at_index(1,1000)\n",
    "my_list.display()"
   ]
  },
  {
   "cell_type": "code",
   "execution_count": 259,
   "metadata": {},
   "outputs": [
    {
     "data": {
      "text/plain": [
       "1"
      ]
     },
     "execution_count": 259,
     "metadata": {},
     "output_type": "execute_result"
    }
   ],
   "source": [
    "my_list.get_by_index(0).data"
   ]
  },
  {
   "cell_type": "code",
   "execution_count": 235,
   "metadata": {},
   "outputs": [
    {
     "name": "stdout",
     "output_type": "stream",
     "text": [
      "10\n",
      "1\n",
      "2\n",
      "3\n",
      "4\n",
      "5\n",
      "100\n"
     ]
    }
   ],
   "source": [
    "my_list.insert_at_start(10)\n",
    "my_list.append(100)\n",
    "my_list.display()"
   ]
  },
  {
   "cell_type": "code",
   "execution_count": 214,
   "metadata": {},
   "outputs": [
    {
     "name": "stdout",
     "output_type": "stream",
     "text": [
      "2\n",
      "3\n",
      "4\n",
      "5\n"
     ]
    }
   ],
   "source": [
    "my_list.remove_at_start()\n",
    "my_list.display()\n"
   ]
  },
  {
   "cell_type": "code",
   "execution_count": 226,
   "metadata": {},
   "outputs": [
    {
     "name": "stdout",
     "output_type": "stream",
     "text": [
      "1\n",
      "2\n",
      "3\n"
     ]
    }
   ],
   "source": [
    "my_list.remove_at_end()\n",
    "my_list.display()"
   ]
  },
  {
   "cell_type": "code",
   "execution_count": 218,
   "metadata": {},
   "outputs": [
    {
     "data": {
      "text/plain": [
       "4"
      ]
     },
     "execution_count": 218,
     "metadata": {},
     "output_type": "execute_result"
    }
   ],
   "source": [
    "my_list.length()"
   ]
  },
  {
   "cell_type": "code",
   "execution_count": 207,
   "metadata": {},
   "outputs": [
    {
     "data": {
      "text/plain": [
       "[2, 3, 4, 5]"
      ]
     },
     "execution_count": 207,
     "metadata": {},
     "output_type": "execute_result"
    }
   ],
   "source": [
    "my_list.to_list()"
   ]
  },
  {
   "cell_type": "code",
   "execution_count": 208,
   "metadata": {},
   "outputs": [],
   "source": [
    "my_list.reverse_list()"
   ]
  },
  {
   "cell_type": "code",
   "execution_count": 209,
   "metadata": {},
   "outputs": [
    {
     "name": "stdout",
     "output_type": "stream",
     "text": [
      "5\n",
      "4\n",
      "3\n",
      "2\n"
     ]
    }
   ],
   "source": [
    "my_list.display()"
   ]
  },
  {
   "attachments": {},
   "cell_type": "markdown",
   "metadata": {},
   "source": [
    "# Doubly Linked List"
   ]
  },
  {
   "cell_type": "code",
   "execution_count": 311,
   "metadata": {},
   "outputs": [],
   "source": [
    "class DoubleNode:\n",
    "    \n",
    "    def __init__(self, data):\n",
    "        self.data = data\n",
    "        self.next = None\n",
    "        self.previous = None\n",
    "\n",
    "class DoublyLinkedList:\n",
    "\n",
    "    def __init__(self):\n",
    "        self.head = None\n",
    "        self.tail = None\n",
    "\n",
    "    def append(self, data):\n",
    "\n",
    "        new_double_node = DoubleNode(data)\n",
    "\n",
    "        if self.head is None:\n",
    "            new_double_node.previous = None\n",
    "            self.head = new_double_node\n",
    "            self.tail = self.head\n",
    "            return\n",
    "\n",
    "        self.tail.next = new_double_node\n",
    "        new_double_node.previous = self.tail\n",
    "        self.tail = self.tail.next\n",
    "\n",
    "\n",
    "    def display(self):\n",
    "        current_node = self.head\n",
    "\n",
    "        while current_node:\n",
    "            print(current_node.data)\n",
    "            current_node = current_node.next\n",
    "            \n",
    "\n",
    "    def inverse_display(self):\n",
    "\n",
    "        last_node = self.tail\n",
    "\n",
    "        while last_node:\n",
    "            print(last_node.data)\n",
    "            last_node = last_node.previous\n"
   ]
  },
  {
   "cell_type": "code",
   "execution_count": 312,
   "metadata": {},
   "outputs": [],
   "source": [
    "my_double_list = DoublyLinkedList()\n",
    "\n",
    "my_double_list.append(1)\n",
    "my_double_list.append(2)\n",
    "my_double_list.append(3)\n",
    "\n",
    "\n"
   ]
  },
  {
   "cell_type": "code",
   "execution_count": 313,
   "metadata": {},
   "outputs": [
    {
     "name": "stdout",
     "output_type": "stream",
     "text": [
      "1\n",
      "2\n",
      "3\n"
     ]
    }
   ],
   "source": [
    "my_double_list.display()"
   ]
  },
  {
   "cell_type": "code",
   "execution_count": 314,
   "metadata": {},
   "outputs": [
    {
     "name": "stdout",
     "output_type": "stream",
     "text": [
      "3\n",
      "2\n",
      "1\n"
     ]
    }
   ],
   "source": [
    "my_double_list.inverse_display()"
   ]
  },
  {
   "cell_type": "code",
   "execution_count": null,
   "metadata": {},
   "outputs": [],
   "source": []
  }
 ],
 "metadata": {
  "kernelspec": {
   "display_name": "Python 3",
   "language": "python",
   "name": "python3"
  },
  "language_info": {
   "codemirror_mode": {
    "name": "ipython",
    "version": 3
   },
   "file_extension": ".py",
   "mimetype": "text/x-python",
   "name": "python",
   "nbconvert_exporter": "python",
   "pygments_lexer": "ipython3",
   "version": "3.10.4"
  },
  "orig_nbformat": 4
 },
 "nbformat": 4,
 "nbformat_minor": 2
}
