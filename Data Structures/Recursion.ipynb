{
 "cells": [
  {
   "attachments": {},
   "cell_type": "markdown",
   "metadata": {},
   "source": [
    "# Recursion\n"
   ]
  },
  {
   "cell_type": "code",
   "execution_count": 20,
   "metadata": {},
   "outputs": [],
   "source": [
    "# Power2\n",
    "\n",
    "# Função de 2^n\n",
    "\n",
    "def power2(n):\n",
    "\n",
    "    if n <= 0:\n",
    "        return 1\n",
    "    else:\n",
    "        return 2 * power2(n-1)"
   ]
  },
  {
   "cell_type": "code",
   "execution_count": 21,
   "metadata": {},
   "outputs": [
    {
     "data": {
      "text/plain": [
       "1267650600228229401496703205376"
      ]
     },
     "execution_count": 21,
     "metadata": {},
     "output_type": "execute_result"
    }
   ],
   "source": [
    "power2(100)"
   ]
  },
  {
   "attachments": {},
   "cell_type": "markdown",
   "metadata": {},
   "source": [
    "# Power Sum\n",
    "\n",
    "Find the number of ways that a given integer, , can be expressed as the sum of the  powers of unique, natural numbers.\n",
    "\n",
    "For example, if  and , we have to find all combinations of unique squares adding up to . The only solution is .\n",
    "\n",
    "Function Description\n",
    "\n",
    "Complete the powerSum function in the editor below. It should return an integer that represents the number of possible combinations.\n",
    "\n",
    "powerSum has the following parameter(s):\n",
    "\n",
    "X: the integer to sum to\n",
    "N: the integer power to raise numbers to\n",
    "Input Format\n",
    "\n",
    "The first line contains an integer .\n",
    "The second line contains an integer .\n",
    "\n",
    "Constraints\n",
    "\n",
    "Output Format\n",
    "\n",
    "Output a single integer, the number of possible combinations caclulated.\n",
    "\n",
    "Sample Input 0\n",
    "\n",
    "10\n",
    "2\n",
    "Sample Output 0\n",
    "\n",
    "1\n",
    "Explanation 0\n",
    "\n",
    "If  and , we need to find the number of ways that  can be represented as the sum of squares of unique numbers.\n",
    "\n",
    "\n",
    "This is the only way in which  can be expressed as the sum of unique squares.\n",
    "\n",
    "Sample Input 1\n",
    "\n",
    "100\n",
    "2\n",
    "Sample Output 1\n",
    "\n",
    "3\n",
    "Explanation 1\n",
    "\n",
    "\n",
    "Sample Input 2\n",
    "\n",
    "100\n",
    "3\n",
    "Sample Output 2\n",
    "\n",
    "1\n",
    "Explanation 2\n",
    "\n",
    " can be expressed as the sum of the cubes of .\n",
    ". There is no other way to express  as the sum of cubes."
   ]
  },
  {
   "cell_type": "code",
   "execution_count": 18,
   "metadata": {},
   "outputs": [],
   "source": [
    "\n",
    "def powerSum(X,N):\n",
    "\n",
    "    i = 0\n",
    "    sum = 0\n",
    "    ways = 0\n",
    "\n",
    "    while(i <= X):\n",
    "\n",
    "        sum += pow(i,N)\n",
    "\n",
    "        if sum == X:\n",
    "            ways += 1\n",
    "\n",
    "        if sum > X:\n",
    "            i = 0 + ways\n",
    "\n",
    "\n",
    "        \n",
    "        i += 1\n",
    "\n",
    "        # if sum > X:\n",
    "        #     sum = 0\n",
    "\n",
    "    return ways"
   ]
  },
  {
   "cell_type": "code",
   "execution_count": 19,
   "metadata": {},
   "outputs": [
    {
     "ename": "KeyboardInterrupt",
     "evalue": "",
     "output_type": "error",
     "traceback": [
      "\u001b[1;31m---------------------------------------------------------------------------\u001b[0m",
      "\u001b[1;31mKeyboardInterrupt\u001b[0m                         Traceback (most recent call last)",
      "\u001b[1;32mc:\\Gabriel\\Cursos e Livros\\Programacao\\Amazon\\Codigo\\Recursion.ipynb Célula 6\u001b[0m in \u001b[0;36m<cell line: 1>\u001b[1;34m()\u001b[0m\n\u001b[1;32m----> <a href='vscode-notebook-cell:/c%3A/Gabriel/Cursos%20e%20Livros/Programacao/Amazon/Codigo/Recursion.ipynb#X10sZmlsZQ%3D%3D?line=0'>1</a>\u001b[0m powerSum(\u001b[39m13\u001b[39;49m,\u001b[39m2\u001b[39;49m)\n",
      "\u001b[1;32mc:\\Gabriel\\Cursos e Livros\\Programacao\\Amazon\\Codigo\\Recursion.ipynb Célula 6\u001b[0m in \u001b[0;36mpowerSum\u001b[1;34m(X, N)\u001b[0m\n\u001b[0;32m      <a href='vscode-notebook-cell:/c%3A/Gabriel/Cursos%20e%20Livros/Programacao/Amazon/Codigo/Recursion.ipynb#X10sZmlsZQ%3D%3D?line=6'>7</a>\u001b[0m \u001b[39mwhile\u001b[39;00m(i \u001b[39m<\u001b[39m\u001b[39m=\u001b[39m X):\n\u001b[0;32m      <a href='vscode-notebook-cell:/c%3A/Gabriel/Cursos%20e%20Livros/Programacao/Amazon/Codigo/Recursion.ipynb#X10sZmlsZQ%3D%3D?line=8'>9</a>\u001b[0m     \u001b[39msum\u001b[39m \u001b[39m+\u001b[39m\u001b[39m=\u001b[39m \u001b[39mpow\u001b[39m(i,N)\n\u001b[1;32m---> <a href='vscode-notebook-cell:/c%3A/Gabriel/Cursos%20e%20Livros/Programacao/Amazon/Codigo/Recursion.ipynb#X10sZmlsZQ%3D%3D?line=10'>11</a>\u001b[0m     \u001b[39mif\u001b[39;00m \u001b[39msum\u001b[39;49m \u001b[39m==\u001b[39;49m X:\n\u001b[0;32m     <a href='vscode-notebook-cell:/c%3A/Gabriel/Cursos%20e%20Livros/Programacao/Amazon/Codigo/Recursion.ipynb#X10sZmlsZQ%3D%3D?line=11'>12</a>\u001b[0m         ways \u001b[39m+\u001b[39m\u001b[39m=\u001b[39m \u001b[39m1\u001b[39m\n\u001b[0;32m     <a href='vscode-notebook-cell:/c%3A/Gabriel/Cursos%20e%20Livros/Programacao/Amazon/Codigo/Recursion.ipynb#X10sZmlsZQ%3D%3D?line=13'>14</a>\u001b[0m     \u001b[39mif\u001b[39;00m \u001b[39msum\u001b[39m \u001b[39m>\u001b[39m X:\n",
      "\u001b[1;31mKeyboardInterrupt\u001b[0m: "
     ]
    }
   ],
   "source": [
    "powerSum(13,2)"
   ]
  },
  {
   "cell_type": "code",
   "execution_count": 4,
   "metadata": {},
   "outputs": [
    {
     "data": {
      "text/plain": [
       "1"
      ]
     },
     "execution_count": 4,
     "metadata": {},
     "output_type": "execute_result"
    }
   ],
   "source": [
    "pow(10,0)"
   ]
  },
  {
   "attachments": {},
   "cell_type": "markdown",
   "metadata": {},
   "source": [
    "# Integer Sum"
   ]
  },
  {
   "cell_type": "code",
   "execution_count": 28,
   "metadata": {},
   "outputs": [
    {
     "data": {
      "text/plain": [
       "10"
      ]
     },
     "execution_count": 28,
     "metadata": {},
     "output_type": "execute_result"
    }
   ],
   "source": [
    "\n",
    "def integer_sum(n):\n",
    "    if n > 0:\n",
    "        return n + integer_sum(n-1)\n",
    "    else:\n",
    "        return n\n",
    "    \n",
    "integer_sum(4)"
   ]
  },
  {
   "cell_type": "code",
   "execution_count": 15,
   "metadata": {},
   "outputs": [
    {
     "data": {
      "text/plain": [
       "2432902008176640000"
      ]
     },
     "execution_count": 15,
     "metadata": {},
     "output_type": "execute_result"
    }
   ],
   "source": [
    "\n",
    "def fatorial(n):\n",
    "    if n <= 1:\n",
    "        return 1\n",
    "    elif n > 1:\n",
    "        return n * fatorial(n-1)\n",
    "    else:\n",
    "        return n\n",
    "    \n",
    "fatorial(20)"
   ]
  },
  {
   "cell_type": "code",
   "execution_count": null,
   "metadata": {},
   "outputs": [],
   "source": []
  }
 ],
 "metadata": {
  "kernelspec": {
   "display_name": "Python 3",
   "language": "python",
   "name": "python3"
  },
  "language_info": {
   "codemirror_mode": {
    "name": "ipython",
    "version": 3
   },
   "file_extension": ".py",
   "mimetype": "text/x-python",
   "name": "python",
   "nbconvert_exporter": "python",
   "pygments_lexer": "ipython3",
   "version": "3.10.4"
  },
  "orig_nbformat": 4
 },
 "nbformat": 4,
 "nbformat_minor": 2
}
