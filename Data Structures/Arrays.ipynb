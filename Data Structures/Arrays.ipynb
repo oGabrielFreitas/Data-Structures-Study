{
 "cells": [
  {
   "attachments": {},
   "cell_type": "markdown",
   "metadata": {},
   "source": [
    "# Arrays"
   ]
  },
  {
   "attachments": {},
   "cell_type": "markdown",
   "metadata": {},
   "source": [
    "## Reverse / Invert"
   ]
  },
  {
   "cell_type": "code",
   "execution_count": 23,
   "metadata": {},
   "outputs": [
    {
     "name": "stdout",
     "output_type": "stream",
     "text": [
      "[50, 40, 30, 20, 10]\n",
      "[50, 40, 30, 20, 10]\n",
      "[50, 40, 30, 20, 10]\n",
      "[10, 20, 30, 40, 50]\n",
      "[50, 40, 30, 20, 10]\n"
     ]
    }
   ],
   "source": [
    "A = [10, 20, 30, 40, 50]\n",
    "\n",
    "def reverseArray_1(a):\n",
    "    b = []\n",
    "    for i in a:\n",
    "        b.insert(0,i) # i Porque nesse caso, ele não é um iterador e sim o próprio \"objeto\"\n",
    "    return b\n",
    "\n",
    "def reverseArray_2(a):\n",
    "    return a[::-1]\n",
    "\n",
    "def reverseArray_3(a): # RUIM: pois usa reversão in-place\n",
    "    a.reverse()\n",
    "    return a\n",
    "\n",
    "def reverseArray_4(a):\n",
    "    return list(reversed(a))\n",
    "\n",
    "print(reverseArray_1(A))\n",
    "print(reverseArray_2(A))\n",
    "print(reverseArray_3(A))\n",
    "\n",
    "# Note que a função anterior, reverteu a array original A, pois o referencial dela foi passado.\n",
    "# Por isso, a função abaixo, retorna ela \"normal\", pois ela está invertendo novamente\n",
    "print(reverseArray_4(A)) \n",
    "\n",
    "# Por último a array continua invertida, por conta da função 3\n",
    "print(A)\n",
    "\n",
    "\n",
    "\n",
    "\n"
   ]
  },
  {
   "attachments": {},
   "cell_type": "markdown",
   "metadata": {},
   "source": [
    "## Left Rotation / Left Shift"
   ]
  },
  {
   "cell_type": "code",
   "execution_count": 77,
   "metadata": {},
   "outputs": [
    {
     "name": "stdout",
     "output_type": "stream",
     "text": [
      "[20, 30, 40, 50, 10]\n",
      "[40, 50, 10, 20, 30]\n",
      "[30, 40, 50, 10, 20]\n"
     ]
    }
   ],
   "source": [
    "A = [10, 20, 30, 40, 50]\n",
    "\n",
    "def left_rotation(a, d): # d é o valor de rotação/shift\n",
    "    return a[d:] + a[:d]\n",
    "\n",
    "def right_rotation(a, d): # d é o valor de rotação/shift\n",
    "    return a[-d::] + a[:-d:]\n",
    "\n",
    "def right_rotation_2(a, d):\n",
    "    n = len(a)\n",
    "    if n == 0:\n",
    "        return a\n",
    "\n",
    "    # Ajusta o valor de d para evitar rotações desnecessárias\n",
    "    d = d % n\n",
    "\n",
    "    # Realiza a rotação à direita\n",
    "    rotated = a[n - d:] + a[:n - d] # Utiliza n-rotação (útil para linguagens que não aceitam indexação negativa)\n",
    "\n",
    "    return rotated\n",
    "\n",
    "\n",
    "print(left_rotation(A,1))\n",
    "print(right_rotation(A,2))\n",
    "print(right_rotation_2(A,3))\n",
    "\n"
   ]
  },
  {
   "attachments": {},
   "cell_type": "markdown",
   "metadata": {},
   "source": [
    "## Max sum in contiguous subarray"
   ]
  },
  {
   "attachments": {},
   "cell_type": "markdown",
   "metadata": {},
   "source": [
    "Esses dois algoritmos têm o mesmo objetivo, que é encontrar a soma máxima de um subarray em um array dado. No entanto, eles possuem abordagens diferentes para resolver o problema.\n",
    "\n",
    "O primeiro algoritmo utiliza dois loops aninhados para percorrer todas as possíveis subarrays do array de entrada a. Ele mantém uma variável sum que armazena a soma atual do subarray em cada iteração. Em cada subarray, ele compara a soma atual com a soma máxima max_sum encontrada até agora e atualiza max_sum se a soma atual for maior. No final, o algoritmo retorna max_sum.\n",
    "\n",
    "O segundo algoritmo utiliza uma abordagem mais eficiente conhecida como Algoritmo de Kadane (Kadane's algorithm). Ele mantém duas variáveis: max_so_far (soma máxima encontrada até o momento) e max_ending_here (soma atual do subarray que termina no índice atual). O algoritmo percorre o array de entrada arr e, em cada iteração, atualiza max_ending_here somando o elemento atual. Em seguida, compara max_ending_here com max_so_far e atualiza max_so_far se max_ending_here for maior. Além disso, se max_ending_here se tornar negativo, ele é redefinido para zero, pois não é possível obter a soma máxima com um subarray negativo. No final, o algoritmo retorna max_so_far.\n",
    "\n",
    "A principal diferença entre os dois algoritmos é a abordagem de percorrer os subarrays. O primeiro algoritmo utiliza dois loops aninhados, o que resulta em uma complexidade de tempo quadrática O(n^2), onde n é o tamanho do array. Ele verifica todas as possíveis combinações de subarrays.\n",
    "\n",
    "O segundo algoritmo utiliza apenas um loop e atualiza as variáveis max_so_far e max_ending_here em tempo linear O(n). Ele usa uma abordagem mais eficiente que aproveita o fato de que a soma máxima de um subarray deve começar e terminar em algum ponto. Portanto, não é necessário verificar todos os subarrays possíveis.\n",
    "\n",
    "Em resumo, o segundo algoritmo é mais eficiente em termos de tempo de execução, pois tem uma complexidade de tempo linear O(n), em comparação com o primeiro algoritmo, que tem uma complexidade de tempo quadrática O(n^2). Portanto, o segundo algoritmo é geralmente preferido para encontrar a soma máxima de um subarray.\n"
   ]
  },
  {
   "cell_type": "code",
   "execution_count": 152,
   "metadata": {},
   "outputs": [
    {
     "name": "stdout",
     "output_type": "stream",
     "text": [
      "1\n",
      "4\n",
      "-1\n",
      "-5\n",
      "-4\n",
      "2\n",
      "3\n",
      "-2\n",
      "-6\n",
      "-5\n",
      "1\n",
      "-5\n",
      "-9\n",
      "-8\n",
      "-2\n",
      "-4\n",
      "-3\n",
      "3\n",
      "1\n",
      "7\n",
      "6\n",
      "Resp:  7\n"
     ]
    }
   ],
   "source": [
    "A = [1, 3, -5, -4, 1, 6]\n",
    "# A = [1, 2, 3, -4, 6, 7, 8]\n",
    "# A = [1, 2, 3]\n",
    "\n",
    "\n",
    "# Solução ruim pois é O(n^2)\n",
    "def max_sum_subarray(a):\n",
    "\n",
    "    sum = 0\n",
    "    max_sum = 0\n",
    "\n",
    "    for i in range(0, len(a)):\n",
    "        for n in range(i, len(a)):\n",
    "            sum += a[n]\n",
    "            if sum > max_sum:\n",
    "                max_sum = sum\n",
    "            print(sum)\n",
    "        sum = 0\n",
    "\n",
    "    return max_sum\n",
    "\n",
    "\n",
    "        \n",
    "print('Resp: ', max_sum_subarray(A))\n",
    "# max_sum_subarray('Resp: ', A)\n"
   ]
  },
  {
   "cell_type": "code",
   "execution_count": 185,
   "metadata": {},
   "outputs": [
    {
     "name": "stdout",
     "output_type": "stream",
     "text": [
      "Loop: 0  - Max ending:  1\n",
      "Loop: 0  - Max so far:  1\n",
      "\n",
      "\n",
      "Loop: 1  - Max ending:  3\n",
      "Loop: 1  - Max so far:  3\n",
      "\n",
      "\n",
      "Loop: 2  - Max ending:  5\n",
      "Loop: 2  - Max so far:  5\n",
      "\n",
      "\n",
      "Loop: 3  - Max ending:  -35\n",
      "Loop: 3  - Zerou\n",
      "Loop: 3  - Max so far:  5\n",
      "\n",
      "\n",
      "Loop: 4  - Max ending:  3\n",
      "Loop: 4  - Max so far:  5\n",
      "\n",
      "\n",
      "Loop: 5  - Max ending:  6\n",
      "Loop: 5  - Max so far:  6\n",
      "\n",
      "\n",
      "Resp:  6\n"
     ]
    }
   ],
   "source": [
    "# Algoritmo de Kadane (Kadane's algorithm)\n",
    "# Melhor solução em O(n)\n",
    "\n",
    "A = [1, 3, -5, -4, 6, 1]\n",
    "A = [1,2,3,-4,6,1]\n",
    "A = [1,2,2,-40,3,3]\n",
    "\n",
    "\n",
    "\n",
    "def max_sum_subarray(arr): \n",
    "    max_so_far = 0 \n",
    "    max_ending_here = 0\n",
    "\n",
    "    for i in range(0, len(arr)): \n",
    "\n",
    "        max_ending_here += arr[i]\n",
    "        print('Loop:', i, ' - Max ending: ',max_ending_here)\n",
    "\n",
    "        if max_so_far < max_ending_here: \n",
    "            max_so_far = max_ending_here\n",
    "\n",
    "        if max_ending_here < 0:\n",
    "            print('Loop:', i, ' - Zerou')\n",
    "            max_ending_here = 0\n",
    "\n",
    "        print('Loop:', i, ' - Max so far: ',max_so_far)\n",
    "        print('\\n')\n",
    "\n",
    "    return max_so_far\n",
    "\n",
    "print('Resp: ', max_sum_subarray(A))\n"
   ]
  },
  {
   "cell_type": "code",
   "execution_count": null,
   "metadata": {},
   "outputs": [],
   "source": []
  },
  {
   "attachments": {},
   "cell_type": "markdown",
   "metadata": {},
   "source": [
    "## Matching Strings"
   ]
  },
  {
   "cell_type": "code",
   "execution_count": 188,
   "metadata": {},
   "outputs": [
    {
     "name": "stdout",
     "output_type": "stream",
     "text": [
      "Resp:  [2, 1, 0]\n",
      "Resp:  [2, 1, 0]\n"
     ]
    }
   ],
   "source": [
    "stringList = ['ab', 'ab', 'abc']\n",
    "queries = ['ab', 'abc', 'bc']\n",
    "\n",
    "# Way 1\n",
    "def matchingStrings(stringList, queries):\n",
    "    \n",
    "    matches = []\n",
    "    matches_sum = 0\n",
    "    \n",
    "    for i in range(len(queries)):\n",
    "        matches.append(0)\n",
    "        for n in range(len(stringList)):\n",
    "            \n",
    "            if queries[i] == stringList[n]:\n",
    "                matches_sum += 1\n",
    "                matches[i] = matches_sum\n",
    "        \n",
    "        matches_sum = 0\n",
    "        \n",
    "    return matches\n",
    "\n",
    "# Way 2\n",
    "\n",
    "def matchingStrings_2(stringList, queries):\n",
    "    \n",
    "    matches = []\n",
    "    \n",
    "    for i in range(len(queries)):\n",
    "        matches_sum = 0\n",
    "        for n in range(len(stringList)):\n",
    "            \n",
    "            if queries[i] == stringList[n]:\n",
    "                matches_sum += 1\n",
    "        matches.append(matches_sum)\n",
    "        \n",
    "    return matches\n",
    "\n",
    "print('Resp: ', matchingStrings(stringList, queries))\n",
    "print('Resp: ', matchingStrings_2(stringList, queries))\n",
    "\n"
   ]
  },
  {
   "attachments": {},
   "cell_type": "markdown",
   "metadata": {},
   "source": [
    "## Array Manipulation (HackerRank)\n",
    "\n",
    "Starting with a 1-indexed array of zeros and a list of operations, for each operation add a value to each the array element between two given indices, inclusive. Once all operations have been performed, return the maximum value in the array.\n",
    "\n",
    "Example\n",
    "\n",
    "\n",
    "Queries are interpreted as follows:\n",
    "\n",
    "    a b k\n",
    "    1 5 3\n",
    "    4 8 7\n",
    "    6 9 1\n",
    "Add the values of  between the indices  and  inclusive:\n",
    "\n",
    "index->\t 1 2 3  4  5 6 7 8 9 10\n",
    "\t[0,0,0, 0, 0,0,0,0,0, 0]\n",
    "\t[3,3,3, 3, 3,0,0,0,0, 0]\n",
    "\t[3,3,3,10,10,7,7,7,0, 0]\n",
    "\t[3,3,3,10,10,8,8,8,1, 0]\n",
    "The largest value is  after all operations are performed.\n",
    "\n",
    "Function Description\n",
    "\n",
    "Complete the function arrayManipulation in the editor below.\n",
    "\n",
    "arrayManipulation has the following parameters:\n",
    "\n",
    "int n - the number of elements in the array\n",
    "int queries[q][3] - a two dimensional array of queries where each queries[i] contains three integers, a, b, and k.\n",
    "Returns\n",
    "\n",
    "int - the maximum value in the resultant array\n",
    "Input Format\n",
    "\n",
    "The first line contains two space-separated integers  and , the size of the array and the number of operations.\n",
    "Each of the next  lines contains three space-separated integers ,  and , the left index, right index and summand.\n",
    "\n",
    "Constraints\n",
    "\n",
    "Sample Input\n",
    "\n",
    "5 3\n",
    "1 2 100\n",
    "2 5 100\n",
    "3 4 100\n",
    "Sample Output\n",
    "\n",
    "200\n",
    "Explanation\n",
    "\n",
    "After the first update the list is 100 100 0 0 0.\n",
    "After the second update list is 100 200 100 100 100.\n",
    "After the third update list is 100 200 200 200 100.\n",
    "\n",
    "The maximum value is ."
   ]
  },
  {
   "cell_type": "code",
   "execution_count": 189,
   "metadata": {},
   "outputs": [],
   "source": [
    "# PRECISO OTIMIZAR ESSE CÓDIGO, USANDO DICIONÁRIOS\n",
    "\n",
    "def arrayManipulation(n, queries):\n",
    "    \n",
    "    # As we don't have numpy, we must create our array by interation.\n",
    "    \n",
    "    space = []\n",
    "    \n",
    "    for i in range(n):\n",
    "        space.append(0)\n",
    "        \n",
    "    # Space Operation based in queries\n",
    "\n",
    "    for i in range(len(queries)):    \n",
    "        for j in range(queries[i][0]-1, queries[i][1], 1):\n",
    "            space[j] += queries[i][2]\n",
    "            \n",
    "    # Finding maxium value in space\n",
    "    \n",
    "    max_value = 0\n",
    "    \n",
    "    for i in space:\n",
    "        if i > max_value:\n",
    "            max_value = i\n",
    "    \n",
    "    return max_value"
   ]
  },
  {
   "cell_type": "code",
   "execution_count": null,
   "metadata": {},
   "outputs": [],
   "source": []
  }
 ],
 "metadata": {
  "kernelspec": {
   "display_name": "Python 3",
   "language": "python",
   "name": "python3"
  },
  "language_info": {
   "codemirror_mode": {
    "name": "ipython",
    "version": 3
   },
   "file_extension": ".py",
   "mimetype": "text/x-python",
   "name": "python",
   "nbconvert_exporter": "python",
   "pygments_lexer": "ipython3",
   "version": "3.10.4"
  },
  "orig_nbformat": 4
 },
 "nbformat": 4,
 "nbformat_minor": 2
}
