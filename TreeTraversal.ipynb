{
 "cells": [
  {
   "attachments": {},
   "cell_type": "markdown",
   "metadata": {},
   "source": [
    "# Tree Traversal\n",
    "\n",
    "Como acessar todos os elementos de uma árvore"
   ]
  },
  {
   "cell_type": "code",
   "execution_count": 4,
   "metadata": {},
   "outputs": [
    {
     "name": "stdout",
     "output_type": "stream",
     "text": [
      "2\n",
      "Esquerda: 1\n",
      "Direita: 3\n"
     ]
    },
    {
     "data": {
      "text/plain": [
       "False"
      ]
     },
     "execution_count": 4,
     "metadata": {},
     "output_type": "execute_result"
    }
   ],
   "source": [
    "\n",
    "class Node:\n",
    "    def __init__(self, value):\n",
    "        self.value = value\n",
    "        self.left = None\n",
    "        self.right = None\n",
    "    \n",
    "\n",
    "class BinarySearchTree:\n",
    "    def __init__(self):\n",
    "        self.root = None # Works as Head from Linked List\n",
    "\n",
    "    def insert(self, value):\n",
    "\n",
    "        new_node = Node(value) # Just like Linked Lists\n",
    "\n",
    "        if self.root is None:\n",
    "            self.root = new_node\n",
    "            return True\n",
    "        \n",
    "        temp = self.root\n",
    "\n",
    "        while True:\n",
    "            if new_node.value == temp.value:\n",
    "                return False\n",
    "            \n",
    "            if new_node.value < temp.value:\n",
    "                if temp.left is None:\n",
    "                    temp.left = new_node\n",
    "                    return True\n",
    "                temp = temp.left\n",
    "\n",
    "            else:\n",
    "                if temp.right is None:\n",
    "                    temp.right = new_node\n",
    "                    return True\n",
    "                temp = temp.right\n",
    "\n",
    "    def contains(self, value):\n",
    "\n",
    "        temp = self.root\n",
    "\n",
    "        while temp is not None:\n",
    "            \n",
    "            if temp.value == value:\n",
    "                return True\n",
    "            \n",
    "            if value < temp.value:\n",
    "                temp = temp.left\n",
    "            else:\n",
    "                temp = temp.right\n",
    "\n",
    "        return False\n",
    "    \n",
    "    # Breadth First Search Method\n",
    "    def BFS(self):\n",
    "        current_node = self.root\n",
    "        queue = [] # Not the best BigO performance, 'cause it's a list, not a queue\n",
    "        result = []\n",
    "\n",
    "        queue.append(current_node)\n",
    "\n",
    "        while len(queue) > 0:\n",
    "            current_node = queue.pop(0)\n",
    "            result.append(current_node.value)\n",
    "\n",
    "            if current_node.left is not None:\n",
    "                queue.append(current_node.left)\n",
    "            \n",
    "            if current_node.right is not None:\n",
    "                queue.append(current_node.right)\n",
    "\n",
    "        return result\n",
    "\n",
    "\n",
    "my_tree = BinarySearchTree()\n",
    "my_tree.insert(2)\n",
    "my_tree.insert(1)\n",
    "my_tree.insert(3)\n",
    "my_tree.insert(8)\n",
    "my_tree.insert(10)\n",
    "my_tree.insert(5)\n",
    "\n",
    "\n",
    "print(my_tree.root.value)\n",
    "print(f'Esquerda: {my_tree.root.left.value}')\n",
    "print(f'Direita: {my_tree.root.right.value}')\n",
    "\n",
    "my_tree.contains(11)\n",
    "\n",
    "\n",
    "\n",
    "\n",
    "\n"
   ]
  },
  {
   "cell_type": "code",
   "execution_count": 5,
   "metadata": {},
   "outputs": [
    {
     "data": {
      "text/plain": [
       "[2, 1, 3, 8, 5, 10]"
      ]
     },
     "execution_count": 5,
     "metadata": {},
     "output_type": "execute_result"
    }
   ],
   "source": [
    "my_tree.BFS()"
   ]
  },
  {
   "cell_type": "code",
   "execution_count": null,
   "metadata": {},
   "outputs": [],
   "source": []
  }
 ],
 "metadata": {
  "kernelspec": {
   "display_name": "Python 3",
   "language": "python",
   "name": "python3"
  },
  "language_info": {
   "codemirror_mode": {
    "name": "ipython",
    "version": 3
   },
   "file_extension": ".py",
   "mimetype": "text/x-python",
   "name": "python",
   "nbconvert_exporter": "python",
   "pygments_lexer": "ipython3",
   "version": "3.10.4"
  },
  "orig_nbformat": 4
 },
 "nbformat": 4,
 "nbformat_minor": 2
}
